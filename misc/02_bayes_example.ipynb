{
 "cells": [
  {
   "cell_type": "markdown",
   "id": "1ae560e9-b2c6-4eac-9c02-c67d69aab569",
   "metadata": {},
   "source": [
    "# Application of Bayes Theorem to breast cancer screening\n",
    "\n",
    "## Induction and deduction\n",
    "\n",
    "**Induction**: Evidence to hypothesis; generalising from observation.  Example of an inductive argument: \"All ravens I have seen are black. Therefore ravens are black.\"\n",
    "\n",
    "**Deduction**: Hypothesis to conclusion; applying what is known. Example of a deductive argument: \"All noble gasses are stable. Neon is a noble gas. Therefore neon is stable.\" Multiple hypotheses may be generated (by induction), and their conclusions checked against the facts; \"When you have eliminated the impossible, whatever remains, however improbable, must be the truth\" (Sherlock Holmes).\n",
    "\n",
    "## Probability and likelihood\n",
    "\n",
    "See: https://youtu.be/pYxNSUDSFH4\n",
    "\n",
    "Probability and likelihood are often used interchangably, but strictly:\n",
    " \n",
    "* *Probability*: Given a fixed distribution, what is the probability of a given observation. Probabilities are areas under a fixed distribution: $pr(data|distribution)$.\n",
    " \n",
    "* *Likelihood*: Given a fixed observation, what is the likelihood of seeing that observation with the given distribution? $L(distribution|data)$.\n",
    "\n",
    " \n",
    "## Bayes theorem\n",
    "\n",
    "$P(H|E) = \\frac{P(E|H)\\times P(H)}{P(E)}$\n",
    "\n",
    "* $P(H|E)$: Probability of hypothesis, H, is true given evidence, E (induction).\n",
    "* $P(E|H)$: Probability of seeing evidence, E, if hypothesis, H, is true (deduction).\n",
    "* $P(H)$: *Prior* Probability of hypothesis, H, being true, without observing evidence, E.\n",
    "* $P(E)$: Probability of seeing evidence, E, considering hypothesis, H, may be true or not.\n",
    "\n",
    "or:\n",
    "\n",
    "$P(H|E) = \\frac{P(E|H)}{P(E)} P(H)$\n",
    "\n",
    "* $\\frac{P(E|H)}{P(E)}$: *Likelyhood ratio* - How many times more likely is it that we'll see E, if H is true? $\\frac{P(E|H)}{P(E|H)+P(E|¬H)}$\n"
   ]
  },
  {
   "cell_type": "markdown",
   "id": "431b33a8-8b8f-4c54-aca7-430d534bf87a",
   "metadata": {},
   "source": [
    "## Breast cancer screening\n",
    "\n",
    "Let us consider the application of breat cancer screening to a 4 0 year old woman.\n",
    "\n",
    "Data we have avilable to us:\n",
    "\n",
    "* 1/700 40 year old women will develop cancer in the next year.\n",
    "* Mamogram screening has 73% sensitivity and 88% sensitivity:\n",
    "    * 73% of cancers are detected\n",
    "    * Of those without cancer 12% will return a false positive\n",
    "\n"
   ]
  },
  {
   "cell_type": "markdown",
   "id": "c5e68727-4f2b-4621-aa12-4c1f7d6781df",
   "metadata": {},
   "source": [
    "Our hypothesis, H, is that the woman has cancer.\n",
    "\n",
    "* P(E|H) = probability of a positive test if H is true = 0.73\n",
    "* P(H) = prior probability of having cancer without evidence (test) = 1/700 = 0.001429\n",
    "* P(E):\n",
    "    * = probability of a positive test if H is true (= 0.73) + probability of a positive test if H is false (0.12), but weighted by population of cancer:\n",
    "    * = (0.73 * 1/700) + (0.12 * 699/700) = 0.12087"
   ]
  },
  {
   "cell_type": "code",
   "execution_count": 1,
   "id": "5cab8dca-6ce1-4284-ad13-8fa4a44f089d",
   "metadata": {},
   "outputs": [
    {
     "name": "stdout",
     "output_type": "stream",
     "text": [
      "Probability of having cancer: 0.0086\n"
     ]
    }
   ],
   "source": [
    "P_E_given_H = 0.73\n",
    "P_H = 1/700\n",
    "P_E = (0.73 * 1/700) + (0.12 * 699/700)\n",
    "\n",
    "P_H_given_E = (P_E_given_H * P_H) / P_E\n",
    "\n",
    "print(f'Probability of having cancer: {P_H_given_E:0.4f}')"
   ]
  },
  {
   "cell_type": "markdown",
   "id": "dd0a4d74-4259-40a0-95be-5a0d59a04944",
   "metadata": {},
   "source": [
    "Or, if likelyhood ration is calculated (or given):"
   ]
  },
  {
   "cell_type": "code",
   "execution_count": 2,
   "id": "e70587e8-a2fa-42ed-86e6-8ed371a66365",
   "metadata": {},
   "outputs": [
    {
     "name": "stdout",
     "output_type": "stream",
     "text": [
      "Likelihood ratio: 6.04\n",
      "Probability of having cancer: 0.0086\n"
     ]
    }
   ],
   "source": [
    "P_E_given_H = 0.73\n",
    "P_E_given_not_H = 0.12\n",
    "likelihood_ratio =  P_E_given_H / ((P_E_given_H  * 1/700) + (P_E_given_not_H * 699/700))\n",
    "print(f'Likelihood ratio: {likelihood_ratio:.2f}')\n",
    "\n",
    "P_H_given_E = likelihood_ratio * P_H\n",
    "print(f'Probability of having cancer: {P_H_given_E:0.4f}')\n"
   ]
  },
  {
   "cell_type": "markdown",
   "id": "13e6ac36-5ad3-4816-b969-113b82491230",
   "metadata": {},
   "source": [
    "This is why they don't use mamograms on 40 year old women....."
   ]
  }
 ],
 "metadata": {
  "kernelspec": {
   "display_name": "Python 3 (ipykernel)",
   "language": "python",
   "name": "python3"
  },
  "language_info": {
   "codemirror_mode": {
    "name": "ipython",
    "version": 3
   },
   "file_extension": ".py",
   "mimetype": "text/x-python",
   "name": "python",
   "nbconvert_exporter": "python",
   "pygments_lexer": "ipython3",
   "version": "3.11.5"
  }
 },
 "nbformat": 4,
 "nbformat_minor": 5
}
